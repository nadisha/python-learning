{
 "cells": [
  {
   "cell_type": "markdown",
   "metadata": {},
   "source": [
    "# Python NumPy Array\n",
    "\n",
    "## Creating 1 - dimensional NumPy Arrays\n",
    "The default data type for integer types **int64** and for float types **float64**"
   ]
  },
  {
   "cell_type": "code",
   "execution_count": 1,
   "metadata": {},
   "outputs": [
    {
     "name": "stdout",
     "output_type": "stream",
     "text": [
      "Option 1 - default: [1 3 5]\n",
      "Option 2 - arange: [ 1  3  5  7  9 11]\n",
      "Option 3 - arange: [0 1 2 3 4 5 6 7 8 9]\n",
      "Option 4 - linspace: [ 1.   3.2  5.4  7.6  9.8 12. ]\n",
      "Option 5 - zeros: [0. 0. 0.]\n",
      "Option 6 - ones: [1. 1. 1.]\n",
      "Option 7 - full: [99 99 99]\n",
      "Option 8 - random: [0.89495195 0.10101941 0.92948127 0.20770333 0.39370764]\n",
      "Option 9 - rand: [0.86292283 0.79458739 0.7488586  0.47798346 0.68828358]\n",
      "Option 10 - randint: [0 3 8 3 3]\n"
     ]
    }
   ],
   "source": [
    "# Importing the numpy libary\n",
    "import numpy as np\n",
    "\n",
    "# Option 1\n",
    "# This create an array with 3 elements\n",
    "a = np.array([1, 3, 5])\n",
    "print(\"Option 1 - default:\", a)\n",
    "\n",
    "# Option 2 - (<Start Number>, <End Number>, <Step>)\n",
    "# This create an array which starts from <Start Number> increment by <Step> and go until <End Number>\n",
    "# This is an array of 6 elements\n",
    "a = np.arange(1, 12, 2)\n",
    "print(\"Option 2 - arange:\", a)\n",
    "\n",
    "# Option 3 - (<End Number>)\n",
    "# This create an array which starts from 0 increment by 1 and go until <End Number>\n",
    "# This is an array of 10 elements\n",
    "a = np.arange(10)\n",
    "print(\"Option 3 - arange:\", a)\n",
    "\n",
    "# Option 4 - (<Start Number>, <End Number>, <Number of elements including Start and End Number>)\n",
    "# This creates a floting type array with 6 elements\n",
    "a = np.linspace(1, 12, 6)\n",
    "print(\"Option 4 - linspace:\", a)\n",
    "\n",
    "# Option 5 - (<Number of Elements>)\n",
    "# This creates an empty array where each element has initialized to float type zero (0.)\n",
    "# This is an array of 3 elements\n",
    "z = np.zeros(3)\n",
    "print(\"Option 5 - zeros:\", z)\n",
    "\n",
    "# Option 6 - (<Number of Elements>)\n",
    "# This creates an array where each element has initialized to float type one (1.)\n",
    "# This is an array of 3 elements\n",
    "z = np.ones(3)\n",
    "print(\"Option 6 - ones:\", z)\n",
    "\n",
    "# Option 7 - (<Number of Elements>, <Initialization Value>)\n",
    "# This creates an array where each element can initialize to specific number\n",
    "# This is an array of 3 elements\n",
    "z = np.full(3, 99)\n",
    "print(\"Option 7 - full:\", z)\n",
    "\n",
    "# Option 8 - (<Number of Elements>)\n",
    "# This creates a float type array with random values which ranges from 0 to 1\n",
    "# This is an array of 5 elements\n",
    "z = np.random.random(5)\n",
    "print(\"Option 8 - random:\", z)\n",
    "\n",
    "# Option 9 - (<Number of Elements>)\n",
    "# This creates a float type array with random values which ranges from 0 to 1\n",
    "# This is an array of 5 elements\n",
    "z = np.random.rand(5)\n",
    "print(\"Option 9 - rand:\", z)\n",
    "\n",
    "# Option 10 - (<Start Number>, <End Number>, <Number of elements including Start and End Number>)\n",
    "# This creates an integer type array with 5 elements\n",
    "z = np.random.randint(0, 10, 5)\n",
    "print(\"Option 10 - randint:\", z)"
   ]
  },
  {
   "cell_type": "code",
   "execution_count": 2,
   "metadata": {},
   "outputs": [
    {
     "name": "stdout",
     "output_type": "stream",
     "text": [
      "Array Value: [1 3 5]\n",
      "Array Type: int16\n",
      "Array Element Memory Usage: 2 bytes\n",
      "Array Memory Usage: 6 bytes\n"
     ]
    }
   ],
   "source": [
    "# Change the default data type to customer data type\n",
    "# Following change default int64 type to int16 at the time of array creation\n",
    "n = np.array([1, 3, 5], dtype = np.int16 )\n",
    "print('Array Value:', n)\n",
    "print(\"Array Type:\", n.dtype)\n",
    "print('Array Element Memory Usage:', n.itemsize, \"bytes\")\n",
    "print('Array Memory Usage:', n.itemsize * n.size, \"bytes\")"
   ]
  },
  {
   "cell_type": "code",
   "execution_count": 3,
   "metadata": {},
   "outputs": [
    {
     "name": "stdout",
     "output_type": "stream",
     "text": [
      "Previous: [ 1.   3.2  5.4  7.6  9.8 12. ]\n"
     ]
    },
    {
     "data": {
      "text/plain": [
       "array([[ 1. ,  3.2],\n",
       "       [ 5.4,  7.6],\n",
       "       [ 9.8, 12. ]])"
      ]
     },
     "execution_count": 3,
     "metadata": {},
     "output_type": "execute_result"
    }
   ],
   "source": [
    "print(\"Previous:\", a)\n",
    "# Reshape the 1D array into 2D array (like a table)\n",
    "# (<Row Count>, <Column Count>)\n",
    "a = a.reshape(3, 2)\n",
    "a"
   ]
  },
  {
   "cell_type": "markdown",
   "metadata": {},
   "source": [
    "### Properties of an array object"
   ]
  },
  {
   "cell_type": "code",
   "execution_count": 4,
   "metadata": {},
   "outputs": [
    {
     "name": "stdout",
     "output_type": "stream",
     "text": [
      "Array Size: 6\n",
      "Array Shape: (3, 2)\n",
      "Array Type: float64\n",
      "Array Element Memory Usage: 8 bytes\n",
      "Array Total Memory consumption: 48 bytes\n",
      "Array Dimension: 2\n"
     ]
    }
   ],
   "source": [
    "# Get the size of the array regardless of the shape\n",
    "size = a.size\n",
    "print('Array Size:', size)\n",
    "\n",
    "# Get the shape of the array\n",
    "shape = a.shape\n",
    "print('Array Shape:', shape)\n",
    "\n",
    "# Get the data type of each element of the array\n",
    "data_type = a.dtype\n",
    "print('Array Type:', data_type)\n",
    "\n",
    "# Get how much memory each element has been allocated in the array\n",
    "item_size = a.itemsize\n",
    "print(\"Array Element Memory Usage:\", item_size, \"bytes\") \n",
    "\n",
    "# Get total memory allocation for the array\n",
    "total_mem = item_size * size\n",
    "print(\"Array Total Memory consumption:\", total_mem, \"bytes\")\n",
    "\n",
    "# Get array dimension\n",
    "dim = a.ndim\n",
    "print(\"Array Dimension:\", dim)"
   ]
  },
  {
   "cell_type": "markdown",
   "metadata": {},
   "source": [
    "## Creating 2 - dimensional NumPy Arrays"
   ]
  },
  {
   "cell_type": "code",
   "execution_count": 5,
   "metadata": {},
   "outputs": [
    {
     "name": "stdout",
     "output_type": "stream",
     "text": [
      "Option 1:\n",
      " [[1.5 2.  3. ]\n",
      " [4.  5.  6. ]]\n",
      "Option 2:\n",
      " [[9. 8. 7.]\n",
      " [6. 5. 4.]]\n",
      "Oprion 3:\n",
      " [[0. 0. 0. 0.]\n",
      " [0. 0. 0. 0.]\n",
      " [0. 0. 0. 0.]]\n",
      "Option 4:\n",
      " [[1. 1. 1. 1.]\n",
      " [1. 1. 1. 1.]\n",
      " [1. 1. 1. 1.]]\n",
      "Option 5:\n",
      " [[0.48896977 0.03132083 0.88719951 0.95934799]\n",
      " [0.53657532 0.77846268 0.11104192 0.12812323]\n",
      " [0.36033813 0.87592147 0.62941077 0.02252625]]\n",
      "Option 6:\n",
      " [[0.73701939 0.39414836 0.24388503 0.2291038 ]\n",
      " [0.85634743 0.33048433 0.58424838 0.44528493]\n",
      " [0.97201899 0.03327451 0.60576979 0.28641703]]\n",
      "Option 7:\n",
      " [[6 2 2]\n",
      " [0 2 5]\n",
      " [5 0 4]]\n",
      "Option 8:\n",
      " [[6 3 7 2]\n",
      " [2 6 9 6]\n",
      " [9 5 3 1]\n",
      " [4 6 6 3]]\n"
     ]
    }
   ],
   "source": [
    "# Option 1\n",
    "# Creates an array with 2 rows and 3 columns\n",
    "# NOTE: Use of parentheses\n",
    "b = np.array([(1.5, 2, 3), (4, 5, 6)])\n",
    "print(\"Option 1:\\n\", b)\n",
    "\n",
    "# Option 2\n",
    "# Creates an array with 2 rows and 3 columns\n",
    "# NOTE: Use of Square brackets\n",
    "b = np.array([[9.0, 8.0, 7.0], [6.0, 5.0, 4.0]])\n",
    "print(\"Option 2:\\n\", b)\n",
    "              \n",
    "# Option 3 - (<Row Count>, <Column Count>)\n",
    "# This creates an empty array where each element has initialized to float type zero (0.)\n",
    "# NOTE: use parentheses multiple times\n",
    "z = np.zeros((3, 4))\n",
    "print(\"Oprion 3:\\n\", z)\n",
    "\n",
    "# Option 4 - (<Row Count>, <Column Count>)\n",
    "# This creates an array where each element has initialized to float type one (1.)\n",
    "# NOTE: use parentheses multiple times\n",
    "z = np.ones((3, 4))\n",
    "print(\"Option 4:\\n\", z)\n",
    "\n",
    "# Option 5 - (<Row Count>, <Column Count>)\n",
    "# This creates an array with random values which ranges from 0 to 1 (float type)\n",
    "# NOTE: use parentheses multiple times\n",
    "z = np.random.random((3, 4))\n",
    "print(\"Option 5:\\n\", z)\n",
    "\n",
    "# Option 6 - (<Row Count>, <Column Count>)\n",
    "# This creates an array with random values which ranges from 0 to 1 (float type)\n",
    "# NOTE: No additional parentheses as in random function\n",
    "z = np.random.rand(3, 4)\n",
    "print(\"Option 6:\\n\", z)\n",
    "\n",
    "# Option 7 - (<Upper Bound for Random Values - Exclusive>, <Shape of the Array>)\n",
    "# This creates an array with random values which ranges from 0 to 6 (int type)\n",
    "z = np.random.randint(7, size=(3,3))\n",
    "print(\"Option 7:\\n\", z)\n",
    "\n",
    "# Option 8 - (<Low Bound - Inclusive>, <Upper Bound - Inclusive>, <Shape of the Array>)\n",
    "# This creates an array with random values which ranges from 2 to 9 (int type)\n",
    "z = np.random.randint(1, 10, size=(4, 4))\n",
    "print(\"Option 8:\\n\", z)"
   ]
  },
  {
   "cell_type": "markdown",
   "metadata": {},
   "source": [
    "## Matrix"
   ]
  },
  {
   "cell_type": "code",
   "execution_count": 6,
   "metadata": {},
   "outputs": [
    {
     "data": {
      "text/plain": [
       "array([[1., 0., 0., 0., 0.],\n",
       "       [0., 1., 0., 0., 0.],\n",
       "       [0., 0., 1., 0., 0.],\n",
       "       [0., 0., 0., 1., 0.],\n",
       "       [0., 0., 0., 0., 1.]])"
      ]
     },
     "execution_count": 6,
     "metadata": {},
     "output_type": "execute_result"
    }
   ],
   "source": [
    "# Identity Matrix\n",
    "np.identity(5)"
   ]
  },
  {
   "cell_type": "markdown",
   "metadata": {},
   "source": [
    "## Array Operations\n",
    "### Comparison\n",
    "Compare each element of the array.\n",
    "Following checks whether each element of the array is less than 4"
   ]
  },
  {
   "cell_type": "code",
   "execution_count": 7,
   "metadata": {},
   "outputs": [
    {
     "data": {
      "text/plain": [
       "array([[ True,  True],\n",
       "       [False, False],\n",
       "       [False, False]])"
      ]
     },
     "execution_count": 7,
     "metadata": {},
     "output_type": "execute_result"
    }
   ],
   "source": [
    "compare = a < 4\n",
    "compare"
   ]
  },
  {
   "cell_type": "markdown",
   "metadata": {},
   "source": [
    "### Arithmatic Operations"
   ]
  },
  {
   "cell_type": "code",
   "execution_count": 8,
   "metadata": {},
   "outputs": [
    {
     "name": "stdout",
     "output_type": "stream",
     "text": [
      "Array a: [1 2 3 4]\n",
      "Add 2: [3 4 5 6]\n",
      "Subtract by 2: [-1  0  1  2]\n",
      "Multiply by 2: [2 4 6 8]\n",
      "Divide by 2: [0.5 1.  1.5 2. ]\n",
      "Powered by 2: [ 1  4  9 16]\n",
      "Array b: [1 0 1 0]\n",
      "Two arrays addition: [2 2 4 4]\n"
     ]
    }
   ],
   "source": [
    "# Create a new array\n",
    "a = np.array([1, 2, 3, 4])\n",
    "print(\"Array a:\", a)\n",
    "\n",
    "# Element wise addition\n",
    "add = a +2\n",
    "print(\"Add 2:\", add)\n",
    "\n",
    "# Element wise subtraction\n",
    "sub = a - 2\n",
    "print(\"Subtract by 2:\", sub)\n",
    "\n",
    "# Element wise multiplication\n",
    "mult = a * 2\n",
    "print(\"Multiply by 2:\", mult)\n",
    "\n",
    "# Element wise division\n",
    "div = a / 2\n",
    "print(\"Divide by 2:\", div)\n",
    "\n",
    "# Element wise power\n",
    "pow = a ** 2\n",
    "print(\"Powered by 2:\", pow)\n",
    "\n",
    "\n",
    "# Another array\n",
    "b = np.array([1, 0, 1, 0])\n",
    "print(\"Array b:\", b)\n",
    "\n",
    "# Add two arrays\n",
    "add = a + b\n",
    "print(\"Two arrays addition:\", add)"
   ]
  },
  {
   "cell_type": "markdown",
   "metadata": {},
   "source": [
    "### Repeat array"
   ]
  },
  {
   "cell_type": "code",
   "execution_count": 9,
   "metadata": {},
   "outputs": [
    {
     "name": "stdout",
     "output_type": "stream",
     "text": [
      "1D Array: [1 1 1 2 2 2 3 3 3]\n",
      "2D Array, Repeat Row:\n",
      " [[1 2 3]\n",
      " [1 2 3]\n",
      " [1 2 3]]\n",
      "2D Array, Repeat Column:\n",
      " [[1 1 1 2 2 2 3 3 3]]\n"
     ]
    }
   ],
   "source": [
    "# New 1D array with 3 elements\n",
    "arr = np.array([1, 2, 3])\n",
    "\n",
    "# Repeat each element 3 times\n",
    "r = np.repeat(arr, 3) \n",
    "# OR \n",
    "# r = np.repeat(arr, 3, axis=0)\n",
    "print(\"1D Array:\", r)\n",
    "\n",
    "# New 2D 1 x 3 array\n",
    "arr = np.array([[1, 2, 3]])\n",
    "\n",
    "# Repeat each row 3 times \n",
    "r = np.repeat(arr, 3, axis = 0)\n",
    "print(\"2D Array, Repeat Row:\\n\", r)\n",
    "\n",
    "# Repeat each column 3 times\n",
    "r = np.repeat(arr, 3, axis = 1)\n",
    "print(\"2D Array, Repeat Column:\\n\", r)\n"
   ]
  },
  {
   "cell_type": "markdown",
   "metadata": {},
   "source": [
    "### Array Copy"
   ]
  },
  {
   "cell_type": "code",
   "execution_count": 10,
   "metadata": {},
   "outputs": [
    {
     "name": "stdout",
     "output_type": "stream",
     "text": [
      "Original Array: [1 2 3]\n",
      "Copied Array: [  1 444   3]\n"
     ]
    }
   ],
   "source": [
    "# Create a new array\n",
    "org = np.array([1, 2, 3])\n",
    "\n",
    "# Copy the created array to new variable\n",
    "# It copies the content of the element rather than the reference\n",
    "cop = org.copy()\n",
    "\n",
    "# Update the cop array\n",
    "cop[1] = 444\n",
    "\n",
    "print(\"Original Array:\", org)\n",
    "print(\"Copied Array:\", cop)"
   ]
  },
  {
   "cell_type": "markdown",
   "metadata": {},
   "source": [
    "## Statistical Opeations\n",
    "\n",
    "### With 1 - dimensional Arrays"
   ]
  },
  {
   "cell_type": "code",
   "execution_count": 11,
   "metadata": {},
   "outputs": [
    {
     "name": "stdout",
     "output_type": "stream",
     "text": [
      "Array: [8 8 1 3 9]\n",
      "Sum Of Array: 29\n",
      "Minimum Value of Array: 1\n",
      "Maximum Value of Array: 9\n",
      "Mean Value of Array: 5.8\n",
      "Variance of Array: 10.16\n",
      "Standard Deviation of Array: 3.1874754901018454\n"
     ]
    }
   ],
   "source": [
    "# New Array\n",
    "a = np.random.randint(1, 10, 5)\n",
    "print(\"Array:\", a)\n",
    "\n",
    "# Sum\n",
    "sm = a.sum()\n",
    "print(\"Sum Of Array:\", sm)\n",
    "\n",
    "# Min\n",
    "mi = a.min()\n",
    "print(\"Minimum Value of Array:\", mi)\n",
    "\n",
    "# Max\n",
    "mx = a.max()\n",
    "print(\"Maximum Value of Array:\", mx)\n",
    "\n",
    "# Mean or Average\n",
    "me = a.mean()\n",
    "print(\"Mean Value of Array:\", me)\n",
    "\n",
    "# Variance\n",
    "va = a.var()\n",
    "print(\"Variance of Array:\", va)\n",
    "\n",
    "# Standard Deviation\n",
    "sd = a.std()\n",
    "print(\"Standard Deviation of Array:\", sd)"
   ]
  },
  {
   "cell_type": "markdown",
   "metadata": {},
   "source": [
    "### With 2 - dimensional Arrays"
   ]
  },
  {
   "cell_type": "code",
   "execution_count": 12,
   "metadata": {},
   "outputs": [
    {
     "name": "stdout",
     "output_type": "stream",
     "text": [
      "1D Array: [4 6 8 8 6 6]\n",
      "2D Array:\n",
      " [[4 6]\n",
      " [8 8]\n",
      " [6 6]]\n",
      "Sum Along the Array Columns:\n",
      " [18 20]\n",
      "Sum Along the Array Rows:\n",
      " [10 16 12]\n"
     ]
    }
   ],
   "source": [
    "# New Array with 6 element\n",
    "a = np.random.randint(1, 10, 6)\n",
    "print(\"1D Array:\", a)\n",
    "\n",
    "# Reshape the array for 3 rows and 2 columns\n",
    "a = a.reshape(3, 2)\n",
    "print(\"2D Array:\\n\", a)\n",
    "\n",
    "# Sum\n",
    "# axis=None means all the elements in the array (defautl) \n",
    "# axis = 0 means along the column\n",
    "# axis = 1 means working along the row.\n",
    "smc = a.sum(axis = 0)\n",
    "print(\"Sum Along the Array Columns:\\n\", smc)\n",
    "smr = a.sum(axis = 1)\n",
    "print(\"Sum Along the Array Rows:\\n\", smr)"
   ]
  },
  {
   "cell_type": "markdown",
   "metadata": {},
   "source": [
    "## Random Operations"
   ]
  },
  {
   "cell_type": "code",
   "execution_count": 13,
   "metadata": {},
   "outputs": [
    {
     "name": "stdout",
     "output_type": "stream",
     "text": [
      "Array: [0 1 2 3 4 5 6 7 8 9]\n",
      "Array after shuffle: [1 6 0 9 2 5 7 4 8 3]\n",
      "Randomly selected valye: 4\n"
     ]
    }
   ],
   "source": [
    "# New array\n",
    "a = np.arange(10)\n",
    "print(\"Array:\", a)\n",
    "\n",
    "# Shuffle the array randomly\n",
    "np.random.shuffle(a)\n",
    "print(\"Array after shuffle:\", a)\n",
    "\n",
    "# Chose a random value for the array\n",
    "num = np.random.choice(a)\n",
    "print(\"Randomly selected valye:\", num)"
   ]
  },
  {
   "cell_type": "markdown",
   "metadata": {},
   "source": [
    "## Accessing Elements\n",
    "\n",
    "Numpy creates zero index arrays."
   ]
  },
  {
   "cell_type": "code",
   "execution_count": 14,
   "metadata": {},
   "outputs": [
    {
     "name": "stdout",
     "output_type": "stream",
     "text": [
      "[[ 1  2  3  4  5  6  7]\n",
      " [ 8  9 10 11 12 13 14]\n",
      " [15 16 17 18 19 20 21]]\n"
     ]
    }
   ],
   "source": [
    "# New 3 x 7 array\n",
    "x = np.array([[1, 2, 3, 4, 5, 6, 7], [8, 9, 10, 11, 12, 13, 14], [15, 16, 17, 18, 19, 20, 21]])\n",
    "print(x)"
   ]
  },
  {
   "cell_type": "markdown",
   "metadata": {},
   "source": [
    "![3 By 7 Array](array_3_by_7.png)"
   ]
  },
  {
   "cell_type": "code",
   "execution_count": 15,
   "metadata": {},
   "outputs": [
    {
     "name": "stdout",
     "output_type": "stream",
     "text": [
      "Option 1: 13\n",
      "Option 2: 13\n"
     ]
    }
   ],
   "source": [
    "# Get a specific element - 13\n",
    "# Format - [<Row Index>, <Column Index>]\n",
    "print(\"Option 1:\", x[1, 5])\n",
    "\n",
    "# OR\n",
    "print(\"Option 2:\", x[1, -2])"
   ]
  },
  {
   "cell_type": "code",
   "execution_count": 16,
   "metadata": {},
   "outputs": [
    {
     "name": "stdout",
     "output_type": "stream",
     "text": [
      "Second Row: [ 8  9 10 11 12 13 14]\n",
      "Third Column: [ 3 10 17]\n"
     ]
    }
   ],
   "source": [
    "# Get a specific Row - 2nd row\n",
    "# Format - [<Row Index>, :]\n",
    "print(\"Second Row:\", x[1, :])\n",
    "\n",
    "# Get a specific column - 3rd column\n",
    "# Format - [ : , <Column Index>]\n",
    "print(\"Third Column:\", x[: , 2])"
   ]
  },
  {
   "cell_type": "code",
   "execution_count": 17,
   "metadata": {},
   "outputs": [
    {
     "data": {
      "text/plain": [
       "array([ 9, 10, 11])"
      ]
     },
     "execution_count": 17,
     "metadata": {},
     "output_type": "execute_result"
    }
   ],
   "source": [
    "# Getting a specific row, specific columns - 2nd row and 1st, 2nd, 3rd columns\n",
    "# Format - [<Row Index>, <Start Column Index (Inclusive)> : <End Column Index (Exclusive)>]\n",
    "x[1, 1:4]"
   ]
  },
  {
   "cell_type": "code",
   "execution_count": 18,
   "metadata": {},
   "outputs": [
    {
     "data": {
      "text/plain": [
       "array([ 3, 10])"
      ]
     },
     "execution_count": 18,
     "metadata": {},
     "output_type": "execute_result"
    }
   ],
   "source": [
    "# Getting a specific column, specific rows - 3rd column, 1st and 2nd rows\n",
    "# Format - [<Start Row Index (Inclusive)> : <End Row Index (Exclusive)>, <Column Index>]\n",
    "x[0:2, 2]"
   ]
  },
  {
   "cell_type": "code",
   "execution_count": 19,
   "metadata": {},
   "outputs": [
    {
     "data": {
      "text/plain": [
       "array([16, 18, 20])"
      ]
     },
     "execution_count": 19,
     "metadata": {},
     "output_type": "execute_result"
    }
   ],
   "source": [
    "# Getting a specific row, specific columns with an interval - 3rd row and 2nd, 4th, 6th columns\n",
    "# Format - [<Row Index>, <Start Column Index (Inclusive)> : <End Column Index (Exclusive)> : <Step Size>]\n",
    "x[2, 1:6:2]"
   ]
  },
  {
   "cell_type": "markdown",
   "metadata": {},
   "source": [
    "## Modifying Elements"
   ]
  },
  {
   "cell_type": "code",
   "execution_count": 20,
   "metadata": {},
   "outputs": [
    {
     "data": {
      "text/plain": [
       "array([[  1,   2,   3,   4,   5,   6,   7],\n",
       "       [  8,   9,  10,  11,  12, 100,  14],\n",
       "       [ 15,  16,  17,  18,  19,  20,  21]])"
      ]
     },
     "execution_count": 20,
     "metadata": {},
     "output_type": "execute_result"
    }
   ],
   "source": [
    "# Change an element at 2nd row, 6th column to 100\n",
    "x[1,5] = 100\n",
    "x"
   ]
  },
  {
   "cell_type": "code",
   "execution_count": 21,
   "metadata": {},
   "outputs": [
    {
     "data": {
      "text/plain": [
       "array([[  1,   2, 200,   4,   5,   6,   7],\n",
       "       [  8,   9, 200,  11,  12, 100,  14],\n",
       "       [ 15,  16, 200,  18,  19,  20,  21]])"
      ]
     },
     "execution_count": 21,
     "metadata": {},
     "output_type": "execute_result"
    }
   ],
   "source": [
    "# Change an entire column by specific value - 3rd column by 200\n",
    "x[:, 2] = 200\n",
    "x"
   ]
  },
  {
   "cell_type": "code",
   "execution_count": 22,
   "metadata": {},
   "outputs": [
    {
     "data": {
      "text/plain": [
       "array([[  1, 300, 200,   4,   5,   6,   7],\n",
       "       [  8, 400, 200,  11,  12, 100,  14],\n",
       "       [ 15, 500, 200,  18,  19,  20,  21]])"
      ]
     },
     "execution_count": 22,
     "metadata": {},
     "output_type": "execute_result"
    }
   ],
   "source": [
    "# OR\n",
    "# Change the entire column by specific list of values - 2nd column by [300, 400, 500]\n",
    "x[:, 1] = [300, 400, 500]\n",
    "x"
   ]
  },
  {
   "cell_type": "code",
   "execution_count": 23,
   "metadata": {},
   "outputs": [
    {
     "data": {
      "text/plain": [
       "array([[600, 600, 600, 600, 600, 600, 600],\n",
       "       [  8, 400, 200,  11,  12, 100,  14],\n",
       "       [ 15, 500, 200,  18,  19,  20,  21]])"
      ]
     },
     "execution_count": 23,
     "metadata": {},
     "output_type": "execute_result"
    }
   ],
   "source": [
    "# Change an entire row by specific value - 1st row by 600\n",
    "x[0, :] = 600\n",
    "x"
   ]
  },
  {
   "cell_type": "code",
   "execution_count": 24,
   "metadata": {},
   "outputs": [
    {
     "data": {
      "text/plain": [
       "array([[600, 600, 600, 600, 600, 600, 600],\n",
       "       [  8, 400, 200,  11, 700, 700, 700],\n",
       "       [ 15, 500, 200,  18,  19,  20,  21]])"
      ]
     },
     "execution_count": 24,
     "metadata": {},
     "output_type": "execute_result"
    }
   ],
   "source": [
    "# Change specific set of columns in a row by specific value - In 2nd row, last 3 columns by 700\n",
    "x[1, 4:7] = 700\n",
    "x"
   ]
  },
  {
   "cell_type": "markdown",
   "metadata": {},
   "source": [
    "## 3 dimensional example"
   ]
  },
  {
   "cell_type": "code",
   "execution_count": 25,
   "metadata": {},
   "outputs": [
    {
     "data": {
      "text/plain": [
       "array([[[1, 2],\n",
       "        [3, 4]],\n",
       "\n",
       "       [[5, 6],\n",
       "        [7, 8]]])"
      ]
     },
     "execution_count": 25,
     "metadata": {},
     "output_type": "execute_result"
    }
   ],
   "source": [
    "b = np.array([\n",
    "    [[1, 2], \n",
    "     [3, 4]], \n",
    "    [[5, 6], \n",
    "     [7, 8]]\n",
    "])\n",
    "b"
   ]
  },
  {
   "cell_type": "code",
   "execution_count": 26,
   "metadata": {},
   "outputs": [
    {
     "data": {
      "text/plain": [
       "4"
      ]
     },
     "execution_count": 26,
     "metadata": {},
     "output_type": "execute_result"
    }
   ],
   "source": [
    "# Get specific element\n",
    "# Format - [<Row Index>, <Column Index>, <Depth Index>]\n",
    "b[0, 1, 1]"
   ]
  },
  {
   "cell_type": "code",
   "execution_count": 27,
   "metadata": {},
   "outputs": [
    {
     "data": {
      "text/plain": [
       "array([[[ 1,  2],\n",
       "        [ 3, 20]],\n",
       "\n",
       "       [[ 5,  6],\n",
       "        [ 7,  8]]])"
      ]
     },
     "execution_count": 27,
     "metadata": {},
     "output_type": "execute_result"
    }
   ],
   "source": [
    "# Update specific element\n",
    "b[0, 1, 1] = 20\n",
    "b"
   ]
  },
  {
   "cell_type": "markdown",
   "metadata": {},
   "source": [
    "## Loading Data From a File"
   ]
  },
  {
   "cell_type": "code",
   "execution_count": 36,
   "metadata": {},
   "outputs": [
    {
     "name": "stdout",
     "output_type": "stream",
     "text": [
      "Float Type:\n",
      " [[  1.  13.  21.  11. 196.  75.   4.   3.  34.   6.   7.   8.   0.   1.\n",
      "    2.   3.   4.   5.]\n",
      " [  3.  42.  12.  33. 766.  75.   4.  55.   6.   4.   3.   4.   5.   6.\n",
      "    7.   0.  11.  12.]\n",
      " [  1.  22.  33.  11. 999.  11.   2.   1.  78.   0.   1.   2.   9.   8.\n",
      "    7.   1.  76.  88.]]\n",
      "Integer Type:\n",
      " [[  1  13  21  11 196  75   4   3  34   6   7   8   0   1   2   3   4   5]\n",
      " [  3  42  12  33 766  75   4  55   6   4   3   4   5   6   7   0  11  12]\n",
      " [  1  22  33  11 999  11   2   1  78   0   1   2   9   8   7   1  76  88]]\n"
     ]
    }
   ],
   "source": [
    "# Loads data from a text file\n",
    "filedata = np.genfromtxt(\"data.txt\", delimiter=\",\")\n",
    "print(\"Float Type:\\n\", filedata)\n",
    "\n",
    "# Since the default data type is float, change the element types into int\n",
    "filedata = filedata.astype(\"int32\")\n",
    "print(\"Integer Type:\\n\", filedata)\n"
   ]
  },
  {
   "cell_type": "markdown",
   "metadata": {},
   "source": [
    "## Boolean Masking and Advance Indexing"
   ]
  },
  {
   "cell_type": "code",
   "execution_count": 37,
   "metadata": {},
   "outputs": [
    {
     "data": {
      "text/plain": [
       "array([[False, False, False, False,  True,  True, False, False, False,\n",
       "        False, False, False, False, False, False, False, False, False],\n",
       "       [False, False, False, False,  True,  True, False,  True, False,\n",
       "        False, False, False, False, False, False, False, False, False],\n",
       "       [False, False, False, False,  True, False, False, False,  True,\n",
       "        False, False, False, False, False, False, False,  True,  True]])"
      ]
     },
     "execution_count": 37,
     "metadata": {},
     "output_type": "execute_result"
    }
   ],
   "source": [
    "# Check which element values are greater than 50\n",
    "filedata > 50"
   ]
  },
  {
   "cell_type": "code",
   "execution_count": 41,
   "metadata": {},
   "outputs": [
    {
     "name": "stdout",
     "output_type": "stream",
     "text": [
      "Greater Than 50:\n",
      " [196  75 766  75  55 999  78  76  88]\n",
      "Selected Index Elements:\n",
      " [ 75  75 999  76]\n"
     ]
    }
   ],
   "source": [
    "# Get elements greater than 50\n",
    "gt_50 = filedata[filedata > 50]\n",
    "print(\"Greater Than 50:\\n\", gt_50)\n",
    "\n",
    "# Index with a list in Numpy\n",
    "index_list = [1, 3, 5, 7]\n",
    "x = gt_50[index_list]\n",
    "print(\"Selected Index Elements:\\n\", x)"
   ]
  },
  {
   "cell_type": "markdown",
   "metadata": {},
   "source": [
    "### np.any()"
   ]
  },
  {
   "cell_type": "code",
   "execution_count": 46,
   "metadata": {},
   "outputs": [
    {
     "name": "stdout",
     "output_type": "stream",
     "text": [
      "File Data:\n",
      " [[  1  13  21  11 196  75   4   3  34   6   7   8   0   1   2   3   4   5]\n",
      " [  3  42  12  33 766  75   4  55   6   4   3   4   5   6   7   0  11  12]\n",
      " [  1  22  33  11 999  11   2   1  78   0   1   2   9   8   7   1  76  88]]\n",
      "Columns Greater Than 50:\n",
      " [False False False False  True  True False  True  True False False False\n",
      " False False False False  True  True]\n",
      "Rows Greater Than 50:\n",
      " [ True  True  True]\n"
     ]
    }
   ],
   "source": [
    "print(\"File Data:\\n\", filedata)\n",
    "\n",
    "# Find in which columns have values greater than 50 (not considering all the values in the column)\n",
    "columns_gt_50 = np.any(filedata > 50, axis=0)\n",
    "print(\"Columns Greater Than 50:\\n\", columns_gt_50)\n",
    "\n",
    "# Find in which rows have values greater than 50 (not considering all the values in the row)\n",
    "rows_gt_50 = np.any(filedata > 50, axis=1)\n",
    "print(\"Rows Greater Than 50:\\n\", rows_gt_50)"
   ]
  },
  {
   "cell_type": "markdown",
   "metadata": {},
   "source": [
    "### np.all()"
   ]
  },
  {
   "cell_type": "code",
   "execution_count": 49,
   "metadata": {},
   "outputs": [
    {
     "name": "stdout",
     "output_type": "stream",
     "text": [
      "Columns Greater Than 50:\n",
      " [False False False False  True False False False False False False False\n",
      " False False False False False False]\n",
      "Rows Greater Than 50:\n",
      " [False False False]\n"
     ]
    }
   ],
   "source": [
    "# Find in which columns have all the values greater than 50 (considering all the values in the column)\n",
    "x = np.all(filedata > 50, axis=0)\n",
    "print(\"Columns Greater Than 50:\\n\", x)\n",
    "\n",
    "# Find in which rows have all the values greater than 50 (considering all the values in the row)\n",
    "y = np.all(filedata > 50, axis=1)\n",
    "print(\"Rows Greater Than 50:\\n\", y)"
   ]
  },
  {
   "cell_type": "code",
   "execution_count": 50,
   "metadata": {},
   "outputs": [
    {
     "data": {
      "text/plain": [
       "array([[False, False, False, False, False,  True, False, False, False,\n",
       "        False, False, False, False, False, False, False, False, False],\n",
       "       [False, False, False, False, False,  True, False,  True, False,\n",
       "        False, False, False, False, False, False, False, False, False],\n",
       "       [False, False, False, False, False, False, False, False,  True,\n",
       "        False, False, False, False, False, False, False,  True,  True]])"
      ]
     },
     "execution_count": 50,
     "metadata": {},
     "output_type": "execute_result"
    }
   ],
   "source": [
    "# Get values greater than 50 and less than 100\n",
    "((filedata > 50) & (filedata < 100))"
   ]
  },
  {
   "cell_type": "code",
   "execution_count": 52,
   "metadata": {},
   "outputs": [
    {
     "data": {
      "text/plain": [
       "array([[ True,  True,  True,  True,  True, False,  True,  True,  True,\n",
       "         True,  True,  True,  True,  True,  True,  True,  True,  True],\n",
       "       [ True,  True,  True,  True,  True, False,  True, False,  True,\n",
       "         True,  True,  True,  True,  True,  True,  True,  True,  True],\n",
       "       [ True,  True,  True,  True,  True,  True,  True,  True, False,\n",
       "         True,  True,  True,  True,  True,  True,  True, False, False]])"
      ]
     },
     "execution_count": 52,
     "metadata": {},
     "output_type": "execute_result"
    }
   ],
   "source": [
    "# Get values not greater than 50 and not less than 100 (Opposite of previous)\n",
    "(~((filedata > 50) & (filedata < 100)))"
   ]
  },
  {
   "cell_type": "markdown",
   "metadata": {},
   "source": [
    "## Exercise 1\n",
    "\n",
    "Generate following 2D array\n",
    "```\n",
    "[1, 1, 1, 1, 1]\n",
    "[1, 0, 0, 0, 1]\n",
    "[1, 0, 9, 0, 1]\n",
    "[1, 0, 0, 0, 1]\n",
    "[1, 1, 1, 1, 1]\n",
    "```"
   ]
  },
  {
   "cell_type": "code",
   "execution_count": 28,
   "metadata": {},
   "outputs": [
    {
     "name": "stdout",
     "output_type": "stream",
     "text": [
      "5 x 5 Array with ones:\n",
      " [[1 1 1 1 1]\n",
      " [1 1 1 1 1]\n",
      " [1 1 1 1 1]\n",
      " [1 1 1 1 1]\n",
      " [1 1 1 1 1]]\n",
      "3 x 3 Array with zeros:\n",
      " [[0 0 0]\n",
      " [0 0 0]\n",
      " [0 0 0]]\n",
      "3 x 3 Array with 9 middle:\n",
      " [[0 0 0]\n",
      " [0 9 0]\n",
      " [0 0 0]]\n",
      "Final Result:\n",
      " [[1 1 1 1 1]\n",
      " [1 0 0 0 1]\n",
      " [1 0 9 0 1]\n",
      " [1 0 0 0 1]\n",
      " [1 1 1 1 1]]\n"
     ]
    }
   ],
   "source": [
    "# Create a 5 x 5 array initialized to 1\n",
    "result = np.ones([5, 5], dtype=\"int32\")\n",
    "print(\"5 x 5 Array with ones:\\n\",result)\n",
    "\n",
    "# Create a 3 x 3 array initialized to 0\n",
    "middle = np.zeros((3, 3), dtype = \"int32\")\n",
    "print(\"3 x 3 Array with zeros:\\n\", middle)\n",
    "\n",
    "# Update the middle element of 3 x 3 array from 9\n",
    "middle[1,1] = 9\n",
    "print(\"3 x 3 Array with 9 middle:\\n\", middle)\n",
    "\n",
    "# Update the result 5 x 5 array using 3 x 3 array\n",
    "result[1:4, 1:4] = middle\n",
    "print(\"Final Result:\\n\", result)"
   ]
  },
  {
   "cell_type": "markdown",
   "metadata": {},
   "source": [
    "## Exercise 2\n",
    "\n",
    "![Sample Matrix](exercise_2.png)"
   ]
  },
  {
   "cell_type": "code",
   "execution_count": 59,
   "metadata": {},
   "outputs": [
    {
     "name": "stdout",
     "output_type": "stream",
     "text": [
      "[[ 1  2  3  4  5]\n",
      " [ 6  7  8  9 10]\n",
      " [11 12 13 14 15]\n",
      " [16 17 18 19 20]\n",
      " [21 22 23 24 25]\n",
      " [26 27 28 29 30]]\n"
     ]
    }
   ],
   "source": [
    "exe_2 = np.arange(30) + 1\n",
    "exe_2 = exe_2.reshape((6, 5))\n",
    "print(exe_2)"
   ]
  },
  {
   "cell_type": "code",
   "execution_count": 60,
   "metadata": {},
   "outputs": [
    {
     "data": {
      "text/plain": [
       "array([[11, 12],\n",
       "       [16, 17]])"
      ]
     },
     "execution_count": 60,
     "metadata": {},
     "output_type": "execute_result"
    }
   ],
   "source": [
    "# Q1\n",
    "exe_2[2:4, :2]"
   ]
  },
  {
   "cell_type": "code",
   "execution_count": 61,
   "metadata": {},
   "outputs": [
    {
     "data": {
      "text/plain": [
       "array([ 2,  8, 14, 20])"
      ]
     },
     "execution_count": 61,
     "metadata": {},
     "output_type": "execute_result"
    }
   ],
   "source": [
    "# Q2\n",
    "exe_2[[0, 1, 2, 3], [1, 2, 3, 4]]"
   ]
  },
  {
   "cell_type": "code",
   "execution_count": null,
   "metadata": {},
   "outputs": [],
   "source": [
    "# Q3\n",
    "exe_2[[0, 4, 5], ]"
   ]
  }
 ],
 "metadata": {
  "kernelspec": {
   "display_name": "Python 3",
   "language": "python",
   "name": "python3"
  },
  "language_info": {
   "codemirror_mode": {
    "name": "ipython",
    "version": 3
   },
   "file_extension": ".py",
   "mimetype": "text/x-python",
   "name": "python",
   "nbconvert_exporter": "python",
   "pygments_lexer": "ipython3",
   "version": "3.6.8"
  }
 },
 "nbformat": 4,
 "nbformat_minor": 2
}
